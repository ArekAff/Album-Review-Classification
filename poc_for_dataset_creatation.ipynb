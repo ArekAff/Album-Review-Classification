{
 "cells": [
  {
   "cell_type": "code",
   "execution_count": 45,
   "metadata": {},
   "outputs": [],
   "source": [
    "from youtube_transcript_api import YouTubeTranscriptApi\n",
    "from pytube import YouTube \n",
    "import re"
   ]
  },
  {
   "cell_type": "code",
   "execution_count": 46,
   "metadata": {},
   "outputs": [],
   "source": [
    "video_url = \"https://www.youtube.com/watch?v=ukHDNLI8JNo&list=PLP4CSgl7K7orMz0p3u1uCedytfedxY9IG&ab_channel=theneedledrop\""
   ]
  },
  {
   "cell_type": "markdown",
   "metadata": {},
   "source": [
    "## Video transcript"
   ]
  },
  {
   "cell_type": "code",
   "execution_count": 47,
   "metadata": {},
   "outputs": [
    {
     "name": "stdout",
     "output_type": "stream",
     "text": [
      "ukHDNLI8JNo\n"
     ]
    }
   ],
   "source": [
    "def extract_video_id(video_url : str):\n",
    "    \"\"\"extracts video it from youtube video url\n",
    "\n",
    "    Args:\n",
    "        video_url (str): url to youtube video\n",
    "    \"\"\"\n",
    "    pattern = r\"(?<=\\?v=)[^&]+\"\n",
    "    return re.search(pattern=pattern, string=video_url).group()\n",
    "\n",
    "print(extract_video_id(video_url))\n",
    "    "
   ]
  },
  {
   "cell_type": "code",
   "execution_count": 48,
   "metadata": {},
   "outputs": [
    {
     "name": "stdout",
     "output_type": "stream",
     "text": [
      "[{'text': 'hi everyone uh this Tate McCrae album', 'start': 0.84, 'duration': 6.039}, {'text': \"it's not good this is the second full\", 'start': 4.319, 'duration': 5.441}, {'text': 'length LP from Canadian pop singer and', 'start': 6.879, 'duration': 5.121}, {'text': 'songwriter tapate McCrae who has been', 'start': 9.76, 'duration': 4.12}, {'text': 'having quite a moment since this record', 'start': 12.0, 'duration': 3.679}, {'text': \"dropped you could say it's the moment\", 'start': 13.88, 'duration': 4.6}, {'text': \"she's been grinding for since making the\", 'start': 15.679, 'duration': 6.241}, {'text': 'transition from dance reality TV star to', 'start': 18.48, 'duration': 5.84}, {'text': 'music in the late 2010s first with a', 'start': 21.92, 'duration': 4.64}, {'text': 'trickle of singles then eventually', 'start': 24.32, 'duration': 4.84}, {'text': 'graduating to a couple of eps and', 'start': 26.56, 'duration': 4.4}, {'text': 'nailing her for first major hit with you', 'start': 29.16, 'duration': 4.04}, {'text': 'broke me first which led to creative', 'start': 30.96, 'duration': 4.439}, {'text': 'crossovers with other artists like black', 'start': 33.2, 'duration': 4.64}, {'text': 'bear and Troy Savon then her first full', 'start': 35.399, 'duration': 5.64}, {'text': 'length LP in 2022 and now following that', 'start': 37.84, 'duration': 5.76}, {'text': 'up uh at the very end of last year with', 'start': 41.039, 'duration': 4.601}, {'text': 'think later which has brought some of', 'start': 43.6, 'duration': 5.0}, {'text': 'the biggest tracks of her career so far', 'start': 45.64, 'duration': 5.8}, {'text': \"namely ex's as well as greedy which have\", 'start': 48.6, 'duration': 4.56}, {'text': 'raised her profile to the point where', 'start': 51.44, 'duration': 3.68}, {'text': \"she's netting tens of millions of\", 'start': 53.16, 'duration': 4.239}, {'text': 'monthly listeners across all streaming', 'start': 55.12, 'duration': 4.64}, {'text': 'platforms streaming being a reflection', 'start': 57.399, 'duration': 4.881}, {'text': 'of of this new era of Music consumption', 'start': 59.76, 'duration': 4.399}, {'text': \"but mccrae's success is proof of how\", 'start': 62.28, 'duration': 4.24}, {'text': 'little has actually changed in the last', 'start': 64.159, 'duration': 5.201}, {'text': '25 years because while pop music sound', 'start': 66.52, 'duration': 4.72}, {'text': 'and general Aesthetics have evolved', 'start': 69.36, 'duration': 3.52}, {'text': 'quite a bit since the days of Hit Me', 'start': 71.24, 'duration': 4.4}, {'text': 'Baby One More Time some simple equations', 'start': 72.88, 'duration': 4.64}, {'text': 'have not take some of the trendiest', 'start': 75.64, 'duration': 4.119}, {'text': 'sounds water them down to their most', 'start': 77.52, 'duration': 4.52}, {'text': 'basic elements then churn out one', 'start': 79.759, 'duration': 5.081}, {'text': 'formulaic tune after another with little', 'start': 82.04, 'duration': 4.88}, {'text': 'to no variation across the track and', 'start': 84.84, 'duration': 4.2}, {'text': 'just see where it goes especially after', 'start': 86.92, 'duration': 4.199}, {'text': 'some well shot music videos and a heap', 'start': 89.04, 'duration': 4.2}, {'text': 'of sex appeal which of course most', 'start': 91.119, 'duration': 4.28}, {'text': 'notable pop artists have but the reason', 'start': 93.24, 'duration': 4.879}, {'text': \"it feels odd in mccrae's case is there's\", 'start': 95.399, 'duration': 5.521}, {'text': 'not really anything to it beyond that it', 'start': 98.119, 'duration': 5.721}, {'text': 'feels more like a void of style or flare', 'start': 100.92, 'duration': 5.32}, {'text': 'or personality for one her music videos', 'start': 103.84, 'duration': 4.879}, {'text': 'are about as artistically daring as like', 'start': 106.24, 'duration': 4.8}, {'text': \"some High School Musical Cho but it's\", 'start': 108.719, 'duration': 4.4}, {'text': 'allowed to be titilating and the art', 'start': 111.04, 'duration': 3.84}, {'text': \"Direction which I don't usually talk\", 'start': 113.119, 'duration': 3.401}, {'text': 'about on most albums but I feel like', 'start': 114.88, 'duration': 4.48}, {'text': \"it's important in this case sucks like\", 'start': 116.52, 'duration': 5.44}, {'text': \"for one the title think later I don't\", 'start': 119.36, 'duration': 4.0}, {'text': 'know maybe thinking in the moment would', 'start': 121.96, 'duration': 3.72}, {'text': 'have led to the realization that a black', 'start': 123.36, 'duration': 4.92}, {'text': 'panties and a black spaghetti string top', 'start': 125.68, 'duration': 4.48}, {'text': \"wouldn't exactly read against a black\", 'start': 128.28, 'duration': 4.44}, {'text': 'background plus we have hockey goalie', 'start': 130.16, 'duration': 5.439}, {'text': 'gear but just the leg pads which I guess', 'start': 132.72, 'duration': 4.879}, {'text': \"play into mccrae's only discernable\", 'start': 135.599, 'duration': 4.121}, {'text': \"personality trait that she's Canadian\", 'start': 137.599, 'duration': 3.961}, {'text': 'but not Canadian enough to know that', 'start': 139.72, 'duration': 3.76}, {'text': \"they're on the wrong legs they're\", 'start': 141.56, 'duration': 4.16}, {'text': 'swapped I suppose her and her team could', 'start': 143.48, 'duration': 4.759}, {'text': 'be trolling for reactions here but uh', 'start': 145.72, 'duration': 4.48}, {'text': 'never a tribute to malice what could', 'start': 148.239, 'duration': 4.321}, {'text': 'easily be explained by stupidity again', 'start': 150.2, 'duration': 5.28}, {'text': \"the album's title is think later and I\", 'start': 152.56, 'duration': 5.0}, {'text': \"can barely tell that's the album title\", 'start': 155.48, 'duration': 5.479}, {'text': 'scrawled on the leg pads what are you', 'start': 157.56, 'duration': 5.24}, {'text': \"doing you're in the big leagues now and\", 'start': 160.959, 'duration': 3.92}, {'text': 'this is your album cover reminder that', 'start': 162.8, 'duration': 4.24}, {'text': 'pop music is currently in an era where', 'start': 164.879, 'duration': 4.681}, {'text': \"concepts are King whether it's Beyonce's\", 'start': 167.04, 'duration': 4.919}, {'text': \"Renaissance or Taylor's folklore and\", 'start': 169.56, 'duration': 5.24}, {'text': 'Evermore records the dark turn that doat', 'start': 171.959, 'duration': 5.241}, {'text': 'took on her new LP the fact that Olivia', 'start': 174.8, 'duration': 5.04}, {'text': 'Rodrigo tries to pack every song with uh', 'start': 177.2, 'duration': 5.0}, {'text': 'loads of stories dealing in Teen Angst', 'start': 179.84, 'duration': 4.56}, {'text': 'or look at every time Miley reinvents', 'start': 182.2, 'duration': 4.48}, {'text': 'herself for a new record or everything', 'start': 184.4, 'duration': 4.839}, {'text': 'Billy ish touches or every bone in Lady', 'start': 186.68, 'duration': 5.32}, {'text': \"Gaga's body or every breath Charlie XCX\", 'start': 189.239, 'duration': 5.041}, {'text': 'breathes even the last Lord album that', 'start': 192.0, 'duration': 4.72}, {'text': 'fell flat on its face was going for', 'start': 194.28, 'duration': 4.28}, {'text': 'something hilariously though this is', 'start': 196.72, 'duration': 4.04}, {'text': 'somehow better than her first albums', 'start': 198.56, 'duration': 4.0}, {'text': \"cover where she's standing on the wing\", 'start': 200.76, 'duration': 5.199}, {'text': 'of a burning plane over like a Suburban', 'start': 202.56, 'duration': 6.599}, {'text': 'backdrop and the Photoshop job is', 'start': 205.959, 'duration': 4.321}, {'text': 'something else', 'start': 209.159, 'duration': 3.08}, {'text': \"but yeah even before I've spun the music\", 'start': 210.28, 'duration': 4.319}, {'text': \"I'm disappointed and I've spun the music\", 'start': 212.239, 'duration': 4.601}, {'text': 'and the lack of ambition and inspiration', 'start': 214.599, 'duration': 4.161}, {'text': 'is very clear right out of the gate the', 'start': 216.84, 'duration': 3.84}, {'text': 'record sounds like a boneless thank you', 'start': 218.76, 'duration': 4.559}, {'text': 'next with basic trap perks a lot of soft', 'start': 220.68, 'duration': 5.36}, {'text': 'pillowy syns the singing is processed to', 'start': 223.319, 'duration': 4.92}, {'text': \"hell and feels like I'm listening to not\", 'start': 226.04, 'duration': 4.6}, {'text': 'a person but a pop robot this album', 'start': 228.239, 'duration': 4.36}, {'text': 'sounds like it came out of a lab not a', 'start': 230.64, 'duration': 4.0}, {'text': 'music studio and all of this is', 'start': 232.599, 'duration': 4.321}, {'text': 'compounded with tapate McCrae having an', 'start': 234.64, 'duration': 4.76}, {'text': 'absolute lack of anything significant to', 'start': 236.92, 'duration': 4.84}, {'text': 'say as with her first track here she', 'start': 239.4, 'duration': 4.88}, {'text': 'tries to pen an Ode to getting lost in', 'start': 241.76, 'duration': 5.039}, {'text': 'fleeting desires letting the intrusive', 'start': 244.28, 'duration': 4.4}, {'text': \"thoughts win which hey there's no\", 'start': 246.799, 'duration': 4.0}, {'text': 'shortage of good examples of that very', 'start': 248.68, 'duration': 4.919}, {'text': 'thing uh these days like uh the recent', 'start': 250.799, 'duration': 5.201}, {'text': 'last dinner party single nothing matters', 'start': 253.599, 'duration': 4.36}, {'text': \"the problem is the devil on mccrae's\", 'start': 256.0, 'duration': 4.6}, {'text': \"shoulder isn't really encouraging her to\", 'start': 257.959, 'duration': 5.761}, {'text': \"do anything all that interesting it's\", 'start': 260.6, 'duration': 5.159}, {'text': 'just some pretty basic wants cut your', 'start': 263.72, 'duration': 5.199}, {'text': 'hair get messed up uh get kind of crazy', 'start': 265.759, 'duration': 5.88}, {'text': 'over a guy that uh you know is with', 'start': 268.919, 'duration': 3.921}, {'text': 'somebody else and you want to show up', 'start': 271.639, 'duration': 3.881}, {'text': 'the other girl cu the she so crazy I', 'start': 272.84, 'duration': 5.0}, {'text': 'love her meme look these are not bad', 'start': 275.52, 'duration': 4.16}, {'text': 'things to want in fact a lot of people', 'start': 277.84, 'duration': 3.639}, {'text': 'do want them and a lot of good songs are', 'start': 279.68, 'duration': 4.0}, {'text': 'written about them but Tate lacks the', 'start': 281.479, 'duration': 4.521}, {'text': 'ability to frame them in a way that', 'start': 283.68, 'duration': 4.88}, {'text': 'feels unique or special or specific to', 'start': 286.0, 'duration': 4.72}, {'text': 'her in addition to this the more I hear', 'start': 288.56, 'duration': 3.919}, {'text': \"mccrae's voice on this record the more\", 'start': 290.72, 'duration': 3.759}, {'text': \"it puts me to sleep it's kind of less\", 'start': 292.479, 'duration': 5.401}, {'text': 'singing and more vague melodic moaning', 'start': 294.479, 'duration': 5.641}, {'text': 'with a baby voiced affect', 'start': 297.88, 'duration': 3.96}, {'text': 'it has the breathy understated', 'start': 300.12, 'duration': 4.72}, {'text': 'sensuality of Ariana Grande but uh lacks', 'start': 301.84, 'duration': 5.48}, {'text': 'the vocal range or vocal presence or', 'start': 304.84, 'duration': 4.4}, {'text': 'vocal anything I mean throughout the', 'start': 307.32, 'duration': 3.68}, {'text': 'entire LP there is this blatant', 'start': 309.24, 'duration': 3.92}, {'text': 'dependence on every piece of Studio', 'start': 311.0, 'duration': 4.199}, {'text': 'trickery in the book to make the vocals', 'start': 313.16, 'duration': 4.36}, {'text': 'pop and sound good with the layering and', 'start': 315.199, 'duration': 3.72}, {'text': 'the pitch correction and just making', 'start': 317.52, 'duration': 3.28}, {'text': 'them sound as synthetic as possible', 'start': 318.919, 'duration': 3.521}, {'text': 'which I guess has had the intended', 'start': 320.8, 'duration': 3.88}, {'text': 'effect given that her music is', 'start': 322.44, 'duration': 4.4}, {'text': 'digestible the downside though to this', 'start': 324.68, 'duration': 5.28}, {'text': 'unbroken adherence to formula we now', 'start': 326.84, 'duration': 5.12}, {'text': 'have a record that has no personality no', 'start': 329.96, 'duration': 4.359}, {'text': 'Personal Touch take the song grave for', 'start': 331.96, 'duration': 4.56}, {'text': 'example which structurally uh pretty', 'start': 334.319, 'duration': 4.841}, {'text': 'much brings on every Millennial pop', 'start': 336.52, 'duration': 5.2}, {'text': 'ballad stereotype imaginable but again', 'start': 339.16, 'duration': 4.52}, {'text': \"vocals are so touched up doesn't even\", 'start': 341.72, 'duration': 3.479}, {'text': \"feel like I'm listening to a person\", 'start': 343.68, 'duration': 3.519}, {'text': 'meanwhile whatever intimate Vibes you', 'start': 345.199, 'duration': 3.681}, {'text': 'would typically get out of a song like', 'start': 347.199, 'duration': 3.681}, {'text': 'this are dashed by the mere fact that', 'start': 348.88, 'duration': 4.12}, {'text': \"it's just soaked in so much damn Reverb\", 'start': 350.88, 'duration': 4.24}, {'text': 'it just sounds like pop Gunk McCrae and', 'start': 353.0, 'duration': 3.919}, {'text': 'her producers are really failing to', 'start': 355.12, 'duration': 4.44}, {'text': 'realize that sometimes less really is', 'start': 356.919, 'duration': 4.12}, {'text': 'more with some of these tracks', 'start': 359.56, 'duration': 3.0}, {'text': \"especially when they're going for more\", 'start': 361.039, 'duration': 3.801}, {'text': 'of a tender Vibe like the airbrushed', 'start': 362.56, 'duration': 4.079}, {'text': 'vocal Harmony layers and Pitch shifting', 'start': 364.84, 'duration': 4.24}, {'text': 'on stay done for example are so terrible', 'start': 366.639, 'duration': 3.881}, {'text': 'it kind of sounds like McCrae is being', 'start': 369.08, 'duration': 4.2}, {'text': 'backed up by a chorus of mutant mini me', 'start': 370.52, 'duration': 4.44}, {'text': 'but yeah the sound of this thing is so', 'start': 373.28, 'duration': 3.68}, {'text': \"sterile and generic I'm running out of\", 'start': 374.96, 'duration': 4.2}, {'text': 'ways to talk about it which I guess', 'start': 376.96, 'duration': 3.72}, {'text': 'means I should talk a bit about the', 'start': 379.16, 'duration': 3.599}, {'text': 'writing which often fails to pull', 'start': 380.68, 'duration': 4.88}, {'text': 'together a coherent thought even when uh', 'start': 382.759, 'duration': 4.961}, {'text': \"track is focusing on a topic we've heard\", 'start': 385.56, 'duration': 4.6}, {'text': 'done again and again and again again in', 'start': 387.72, 'duration': 4.4}, {'text': \"pop music it's just that the blueprint\", 'start': 390.16, 'duration': 4.159}, {'text': \"has pretty much been laid out so there's\", 'start': 392.12, 'duration': 5.359}, {'text': 'no excuse to come off this inan like oh', 'start': 394.319, 'duration': 5.201}, {'text': \"I'm sorry sorry that you love me changed\", 'start': 397.479, 'duration': 4.401}, {'text': \"my mind up like it's origami but really\", 'start': 399.52, 'duration': 4.84}, {'text': \"this song is supposed to be about ex's\", 'start': 401.88, 'duration': 4.68}, {'text': 'and what about them well she sends', 'start': 404.36, 'duration': 4.0}, {'text': 'kisses to the ones who think they can do', 'start': 406.56, 'duration': 3.68}, {'text': 'without her which is not all of them', 'start': 408.36, 'duration': 3.959}, {'text': 'because from the previous line I guess', 'start': 410.24, 'duration': 3.959}, {'text': \"there are some that just don't give a\", 'start': 412.319, 'duration': 4.401}, {'text': ' about her and can do without her', 'start': 414.199, 'duration': 4.241}, {'text': \"there are also some who swear they'll\", 'start': 416.72, 'duration': 3.56}, {'text': \"never call her the McCrae doesn't\", 'start': 418.44, 'duration': 4.12}, {'text': 'actually confirm if they do she just', 'start': 420.28, 'duration': 4.84}, {'text': 'says she still has their numbers why if', 'start': 422.56, 'duration': 3.84}, {'text': \"you're saying you're in the power\", 'start': 425.12, 'duration': 2.639}, {'text': \"position because you're the one being\", 'start': 426.4, 'duration': 3.96}, {'text': 'chased why are you keeping their numbers', 'start': 427.759, 'duration': 4.521}, {'text': 'is there more information not really the', 'start': 430.36, 'duration': 3.679}, {'text': 'next verse mostly just kind of reads', 'start': 432.28, 'duration': 4.68}, {'text': 'like uh a vain description of Tate', 'start': 434.039, 'duration': 5.72}, {'text': \"herself that she's a wild ride that\", 'start': 436.96, 'duration': 5.84}, {'text': \"never stops that she's a hard case they\", 'start': 439.759, 'duration': 6.681}, {'text': \"can't unlock she's just unknowable but\", 'start': 442.8, 'duration': 5.64}, {'text': 'if this song is anything to go by maybe', 'start': 446.44, 'duration': 3.68}, {'text': \"that's because there's not lot to know\", 'start': 448.44, 'duration': 4.68}, {'text': 'and she also says I swear I care a lot', 'start': 450.12, 'duration': 5.44}, {'text': 'just not enough but also previously', 'start': 453.12, 'duration': 4.96}, {'text': \"telling us uh I don't mean to be cold\", 'start': 455.56, 'duration': 4.199}, {'text': \"that's just how I get she doesn't even\", 'start': 458.08, 'duration': 4.16}, {'text': 'seem to have a grasp of her own level of', 'start': 459.759, 'duration': 4.4}, {'text': \"emotional investment here I'm sorry for\", 'start': 462.24, 'duration': 4.76}, {'text': 'focusing this much on one single track', 'start': 464.159, 'duration': 5.361}, {'text': 'but everything is very indicative of', 'start': 467.0, 'duration': 4.639}, {'text': 'what goes on on the rest of this record', 'start': 469.52, 'duration': 3.92}, {'text': 'outside of moments like Messier which', 'start': 471.639, 'duration': 4.84}, {'text': 'feel kind of like a literal ripoff of', 'start': 473.44, 'duration': 5.08}, {'text': 'several different major pop songs over', 'start': 476.479, 'duration': 4.081}, {'text': 'the past 10 years and narratively the', 'start': 478.52, 'duration': 4.119}, {'text': 'whole thing seems to Revel in how shitty', 'start': 480.56, 'duration': 4.84}, {'text': \"the relationship it's about is meanwhile\", 'start': 482.639, 'duration': 6.201}, {'text': 'the title track sounds literally like U', 'start': 485.4, 'duration': 6.479}, {'text': \"Mia's bad girls but for people who think\", 'start': 488.84, 'duration': 5.56}, {'text': \"water is too spicy I'll conclude this\", 'start': 491.879, 'duration': 4.6}, {'text': 'video by saying the closing track', 'start': 494.4, 'duration': 4.919}, {'text': 'plastic palm trees is maybe the most', 'start': 496.479, 'duration': 5.761}, {'text': \"fitting moment on the album in that it's\", 'start': 499.319, 'duration': 4.761}, {'text': 'very much about having an experience or', 'start': 502.24, 'duration': 3.679}, {'text': 'being in the midst of something that you', 'start': 504.08, 'duration': 3.76}, {'text': 'think is real but you come to realize', 'start': 505.919, 'duration': 5.041}, {'text': \"that uh it's fake it's all artificial\", 'start': 507.84, 'duration': 5.559}, {'text': 'and essentially meaningless and yeah', 'start': 510.96, 'duration': 4.92}, {'text': \"that's pretty much the game this album\", 'start': 513.399, 'duration': 4.681}, {'text': 'is playing that this album is in fact', 'start': 515.88, 'duration': 4.399}, {'text': 'very artificial in fact this album is', 'start': 518.08, 'duration': 6.0}, {'text': 'very much a copy of a natural organic', 'start': 520.279, 'duration': 6.361}, {'text': 'interesting thing that provides shade', 'start': 524.08, 'duration': 5.319}, {'text': 'and oxygen and is actually beautiful to', 'start': 526.64, 'duration': 4.6}, {'text': 'look at meanwhile This Record is just a', 'start': 529.399, 'duration': 5.161}, {'text': 'fake ass eyesore or a you know ear sore', 'start': 531.24, 'duration': 6.96}, {'text': \"this tapate McCrae LP it's not\", 'start': 534.56, 'duration': 6.64}, {'text': 'good', 'start': 538.2, 'duration': 3.0}]\n"
     ]
    }
   ],
   "source": [
    "video_id = extract_video_id(video_url)\n",
    "srt = YouTubeTranscriptApi.get_transcript(video_id)\n",
    "\n",
    "print(srt)"
   ]
  },
  {
   "cell_type": "markdown",
   "metadata": {},
   "source": [
    "### Get transcript in one string"
   ]
  },
  {
   "cell_type": "code",
   "execution_count": 49,
   "metadata": {},
   "outputs": [
    {
     "name": "stdout",
     "output_type": "stream",
     "text": [
      "hi everyone uh this Tate McCrae album it's not good this is the second full length LP from Canadian pop singer and songwriter tapate McCrae who has been having quite a moment since this record dropped you could say it's the moment she's been grinding for since making the transition from dance reality TV star to music in the late 2010s first with a trickle of singles then eventually graduating to a couple of eps and nailing her for first major hit with you broke me first which led to creative crossovers with other artists like black bear and Troy Savon then her first full length LP in 2022 and now following that up uh at the very end of last year with think later which has brought some of the biggest tracks of her career so far namely ex's as well as greedy which have raised her profile to the point where she's netting tens of millions of monthly listeners across all streaming platforms streaming being a reflection of of this new era of Music consumption but mccrae's success is proof of how little has actually changed in the last 25 years because while pop music sound and general Aesthetics have evolved quite a bit since the days of Hit Me Baby One More Time some simple equations have not take some of the trendiest sounds water them down to their most basic elements then churn out one formulaic tune after another with little to no variation across the track and just see where it goes especially after some well shot music videos and a heap of sex appeal which of course most notable pop artists have but the reason it feels odd in mccrae's case is there's not really anything to it beyond that it feels more like a void of style or flare or personality for one her music videos are about as artistically daring as like some High School Musical Cho but it's allowed to be titilating and the art Direction which I don't usually talk about on most albums but I feel like it's important in this case sucks like for one the title think later I don't know maybe thinking in the moment would have led to the realization that a black panties and a black spaghetti string top wouldn't exactly read against a black background plus we have hockey goalie gear but just the leg pads which I guess play into mccrae's only discernable personality trait that she's Canadian but not Canadian enough to know that they're on the wrong legs they're swapped I suppose her and her team could be trolling for reactions here but uh never a tribute to malice what could easily be explained by stupidity again the album's title is think later and I can barely tell that's the album title scrawled on the leg pads what are you doing you're in the big leagues now and this is your album cover reminder that pop music is currently in an era where concepts are King whether it's Beyonce's Renaissance or Taylor's folklore and Evermore records the dark turn that doat took on her new LP the fact that Olivia Rodrigo tries to pack every song with uh loads of stories dealing in Teen Angst or look at every time Miley reinvents herself for a new record or everything Billy ish touches or every bone in Lady Gaga's body or every breath Charlie XCX breathes even the last Lord album that fell flat on its face was going for something hilariously though this is somehow better than her first albums cover where she's standing on the wing of a burning plane over like a Suburban backdrop and the Photoshop job is something else but yeah even before I've spun the music I'm disappointed and I've spun the music and the lack of ambition and inspiration is very clear right out of the gate the record sounds like a boneless thank you next with basic trap perks a lot of soft pillowy syns the singing is processed to hell and feels like I'm listening to not a person but a pop robot this album sounds like it came out of a lab not a music studio and all of this is compounded with tapate McCrae having an absolute lack of anything significant to say as with her first track here she tries to pen an Ode to getting lost in fleeting desires letting the intrusive thoughts win which hey there's no shortage of good examples of that very thing uh these days like uh the recent last dinner party single nothing matters the problem is the devil on mccrae's shoulder isn't really encouraging her to do anything all that interesting it's just some pretty basic wants cut your hair get messed up uh get kind of crazy over a guy that uh you know is with somebody else and you want to show up the other girl cu the she so crazy I love her meme look these are not bad things to want in fact a lot of people do want them and a lot of good songs are written about them but Tate lacks the ability to frame them in a way that feels unique or special or specific to her in addition to this the more I hear mccrae's voice on this record the more it puts me to sleep it's kind of less singing and more vague melodic moaning with a baby voiced affect it has the breathy understated sensuality of Ariana Grande but uh lacks the vocal range or vocal presence or vocal anything I mean throughout the entire LP there is this blatant dependence on every piece of Studio trickery in the book to make the vocals pop and sound good with the layering and the pitch correction and just making them sound as synthetic as possible which I guess has had the intended effect given that her music is digestible the downside though to this unbroken adherence to formula we now have a record that has no personality no Personal Touch take the song grave for example which structurally uh pretty much brings on every Millennial pop ballad stereotype imaginable but again vocals are so touched up doesn't even feel like I'm listening to a person meanwhile whatever intimate Vibes you would typically get out of a song like this are dashed by the mere fact that it's just soaked in so much damn Reverb it just sounds like pop Gunk McCrae and her producers are really failing to realize that sometimes less really is more with some of these tracks especially when they're going for more of a tender Vibe like the airbrushed vocal Harmony layers and Pitch shifting on stay done for example are so terrible it kind of sounds like McCrae is being backed up by a chorus of mutant mini me but yeah the sound of this thing is so sterile and generic I'm running out of ways to talk about it which I guess means I should talk a bit about the writing which often fails to pull together a coherent thought even when uh track is focusing on a topic we've heard done again and again and again again in pop music it's just that the blueprint has pretty much been laid out so there's no excuse to come off this inan like oh I'm sorry sorry that you love me changed my mind up like it's origami but really this song is supposed to be about ex's and what about them well she sends kisses to the ones who think they can do without her which is not all of them because from the previous line I guess there are some that just don't give a  about her and can do without her there are also some who swear they'll never call her the McCrae doesn't actually confirm if they do she just says she still has their numbers why if you're saying you're in the power position because you're the one being chased why are you keeping their numbers is there more information not really the next verse mostly just kind of reads like uh a vain description of Tate herself that she's a wild ride that never stops that she's a hard case they can't unlock she's just unknowable but if this song is anything to go by maybe that's because there's not lot to know and she also says I swear I care a lot just not enough but also previously telling us uh I don't mean to be cold that's just how I get she doesn't even seem to have a grasp of her own level of emotional investment here I'm sorry for focusing this much on one single track but everything is very indicative of what goes on on the rest of this record outside of moments like Messier which feel kind of like a literal ripoff of several different major pop songs over the past 10 years and narratively the whole thing seems to Revel in how shitty the relationship it's about is meanwhile the title track sounds literally like U Mia's bad girls but for people who think water is too spicy I'll conclude this video by saying the closing track plastic palm trees is maybe the most fitting moment on the album in that it's very much about having an experience or being in the midst of something that you think is real but you come to realize that uh it's fake it's all artificial and essentially meaningless and yeah that's pretty much the game this album is playing that this album is in fact very artificial in fact this album is very much a copy of a natural organic interesting thing that provides shade and oxygen and is actually beautiful to look at meanwhile This Record is just a fake ass eyesore or a you know ear sore this tapate McCrae LP it's not good \n"
     ]
    }
   ],
   "source": [
    "transcript = \"\"\n",
    "for test in srt:\n",
    "    if test['text'].startswith(\"I'm feeling a\"): #transcript cant have a score\n",
    "        break\n",
    "    else:\n",
    "        transcript += test['text'] + \" \"\n",
    "    \n",
    "print(transcript)"
   ]
  },
  {
   "cell_type": "markdown",
   "metadata": {},
   "source": [
    "### Get video description"
   ]
  },
  {
   "cell_type": "code",
   "execution_count": 50,
   "metadata": {},
   "outputs": [],
   "source": [
    "def get_description(url : str):\n",
    "    \"\"\"extracts youtube video description from the provided url\n",
    "\n",
    "    Args:\n",
    "        url (str): url to youtube video\n",
    "\n",
    "    Returns:\n",
    "        str: youtube video description\n",
    "    \"\"\"\n",
    "    yt = YouTube(url)\n",
    "    for n in range(6):\n",
    "        try:\n",
    "            description =  yt.initial_data[\"engagementPanels\"][n][\"engagementPanelSectionListRenderer\"][\"content\"][\"structuredDescriptionContentRenderer\"][\"items\"][1][\"expandableVideoDescriptionBodyRenderer\"][\"attributedDescriptionBodyText\"][\"content\"]            \n",
    "            return description\n",
    "        except:\n",
    "            continue\n",
    "    return False"
   ]
  },
  {
   "cell_type": "code",
   "execution_count": 51,
   "metadata": {},
   "outputs": [],
   "source": [
    "def extract_score_from_description(description : str):\n",
    "    \"\"\"extracts album score based on the video description typicaly its in the penultimate line with text\n",
    "    and the score is the first extpresion before '/' \n",
    "\n",
    "    Args:\n",
    "        description (str): youtube video description\n",
    "\n",
    "    Returns:\n",
    "        str: album scores\n",
    "    \"\"\"\n",
    "    lines = [line.strip() for line in description.strip().split('\\n')]\n",
    "    penultimate_line = lines[-3] # line with score\n",
    "    match = re.match(r'^(.*?)/', penultimate_line)\n",
    "    score = match.group(1) if match else None\n",
    "\n",
    "    return score"
   ]
  },
  {
   "cell_type": "code",
   "execution_count": 52,
   "metadata": {},
   "outputs": [
    {
     "name": "stdout",
     "output_type": "stream",
     "text": [
      "NOT GOOD\n"
     ]
    }
   ],
   "source": [
    "def return_score_from_youtube_video(url):\n",
    "    description = get_description(url)\n",
    "    if description:\n",
    "        return extract_score_from_description(description)\n",
    "\n",
    "print(return_score_from_youtube_video(video_url))"
   ]
  }
 ],
 "metadata": {
  "kernelspec": {
   "display_name": "reviewsclassification",
   "language": "python",
   "name": "python3"
  },
  "language_info": {
   "codemirror_mode": {
    "name": "ipython",
    "version": 3
   },
   "file_extension": ".py",
   "mimetype": "text/x-python",
   "name": "python",
   "nbconvert_exporter": "python",
   "pygments_lexer": "ipython3",
   "version": "3.12.2"
  }
 },
 "nbformat": 4,
 "nbformat_minor": 2
}
